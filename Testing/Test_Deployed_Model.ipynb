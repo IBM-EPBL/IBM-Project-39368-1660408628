{
  "cells": [
    {
      "cell_type": "markdown",
      "metadata": {
        "id": "v6_yYvI4Gf4_"
      },
      "source": [
        "# Import Required libraries"
      ]
    },
    {
      "cell_type": "code",
      "execution_count": 1,
      "metadata": {
        "id": "PxuIpdGnGf5B"
      },
      "outputs": [],
      "source": [
        "import requests\n",
        "import numpy as np\n",
        "import matplotlib.pyplot as plt\n",
        "\n",
        "from PIL import Image, ImageOps"
      ]
    },
    {
      "cell_type": "markdown",
      "metadata": {
        "id": "vgvKl467Gf5C"
      },
      "source": [
        "# pre-processing"
      ]
    },
    {
      "cell_type": "code",
      "execution_count": 3,
      "metadata": {
        "colab": {
          "base_uri": "https://localhost:8080/",
          "height": 45
        },
        "id": "DZlocXJzGf5D",
        "outputId": "7bbcaae1-8147-44a1-f226-4a5ece94ddb7"
      },
      "outputs": [
        {
          "output_type": "execute_result",
          "data": {
            "text/plain": [
              "<PIL.Image.Image image mode=L size=28x28 at 0x7F821C8D6750>"
            ],
            "image/png": "[encoded data removed]"
          },
          "metadata": {},
          "execution_count": 3
        }
      ],
      "source": [
        "img = Image.open(\"/content/sample 1.png\").convert(\"L\")\n",
        "img = ImageOps.invert(img)\n",
        "img = img.resize((28, 28))\n",
        "img_arr = np.array(img)\n",
        "img_arr = img_arr / 255.0\n",
        "img_arr = img_arr.reshape(28, 28, 1)\n",
        "img"
      ]
    },
    {
      "cell_type": "markdown",
      "metadata": {
        "id": "K_OpydsiGf5F"
      },
      "source": [
        "# fetching results from the deployed model"
      ]
    },
    {
      "cell_type": "code",
      "execution_count": 12,
      "metadata": {
        "id": "uKWYlcNWGf5F"
      },
      "outputs": [],
      "source": [
        "API_KEY = \"\" \n",
        "\n",
        "token_response = requests.post('https://iam.cloud.ibm.com/identity/token', \n",
        "                               data={\"apikey\": API_KEY, \"grant_type\": 'urn:ibm:params:oauth:grant-type:apikey'})\n",
        "mltoken = token_response.json()[\"access_token\"]\n",
        "\n",
        "header = {'Content-Type': 'application/json', 'Authorization': 'Bearer ' + mltoken}\n",
        "\n",
        "payload_scoring = {\"input_data\": [{\"fields\": [], \"values\": [img_arr.tolist()]}]}\n",
        "\n",
        "response_scoring = requests.post('https://eu-gb.ml.cloud.ibm.com/ml/v4/deployments/feba0a2c-8103-41a8-825b-97c0aa6562d2/predictions?version=2022-11-18', \n",
        "                                 json=payload_scoring, headers={'Authorization': 'Bearer ' + mltoken})\n"
      ]
    },
    {
      "cell_type": "markdown",
      "metadata": {
        "id": "nHRdm4m1Gf5H"
      },
      "source": [
        "# Testing the deployed model result"
      ]
    },
    {
      "cell_type": "code",
      "execution_count": 13,
      "metadata": {
        "colab": {
          "base_uri": "https://localhost:8080/",
          "height": 265
        },
        "id": "EQSNjBeCGf5H",
        "outputId": "77ce432d-f9e1-4cb6-fcb1-c70437a4e798"
      },
      "outputs": [
        {
          "output_type": "display_data",
          "data": {
            "text/plain": [
              "<Figure size 432x288 with 1 Axes>"
            ],
            "image/png": "[encoded data removed]"
          },
          "metadata": {
            "needs_background": "light"
          }
        },
        {
          "output_type": "stream",
          "name": "stdout",
          "text": [
            "Result:  1\n"
          ]
        }
      ],
      "source": [
        "plt.imshow(plt.imread(\"/content/sample 1.png\"))\n",
        "plt.axis('off')\n",
        "plt.show()\n",
        "print(\"Result: \", response_scoring.json()['predictions'][0]['values'][0][1])"
      ]
    }
  ],
  "metadata": {
    "kernelspec": {
      "display_name": "Python 3.10.8 ('venv': venv)",
      "language": "python",
      "name": "python3"
    },
    "language_info": {
      "codemirror_mode": {
        "name": "ipython",
        "version": 3
      },
      "file_extension": ".py",
      "mimetype": "text/x-python",
      "name": "python",
      "nbconvert_exporter": "python",
      "pygments_lexer": "ipython3",
      "version": "3.10.8"
    },
    "orig_nbformat": 4,
    "vscode": {
      "interpreter": {
        "hash": "72cf82f53b15019b5b640600623df8bcf4d62c2c60fee1ea51c8c07b395bb5c2"
      }
    },
    "colab": {
      "provenance": []
    }
  },
  "nbformat": 4,
  "nbformat_minor": 0
}